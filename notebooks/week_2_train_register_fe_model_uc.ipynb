{
 "cells": [
  {
   "cell_type": "code",
   "execution_count": 0,
   "metadata": {
    "application/vnd.databricks.v1+cell": {
     "cellMetadata": {
      "byteLimit": 2048000,
      "rowLimit": 10000
     },
     "inputWidgets": {},
     "nuid": "9235a281-6846-41be-8aa4-e79d6c9e4592",
     "showTitle": false,
     "tableResultSettingsMap": {},
     "title": ""
    }
   },
   "outputs": [],
   "source": [
    "%pip install loguru"
   ]
  },
  {
   "cell_type": "code",
   "execution_count": 0,
   "metadata": {
    "application/vnd.databricks.v1+cell": {
     "cellMetadata": {
      "byteLimit": 2048000,
      "rowLimit": 10000
     },
     "inputWidgets": {},
     "nuid": "f7cb031c-cec4-4355-b730-179b832ef816",
     "showTitle": false,
     "tableResultSettingsMap": {},
     "title": ""
    }
   },
   "outputs": [],
   "source": [
    "import mlflow\n",
    "from pyspark.sql import SparkSession\n",
    "\n",
    "from src.house_price.config import ProjectConfig, Tags\n",
    "from src.models.feature_lookup_model import FeatureLookUpModel\n",
    "\n",
    "mlflow.set_registry_uri(\"databricks-uc\")\n",
    "\n",
    "config = ProjectConfig.from_yaml(config_path=\"../project_config.yml\")\n",
    "\n",
    "spark = SparkSession.builder.getOrCreate()\n",
    "\n",
    "tags_dict = {\"git_sha\": \"abcd12345\", \"branch\": \"week2\"}\n",
    "tags = Tags(**tags_dict)\n",
    "\n",
    "fe_model = FeatureLookUpModel(config=config, tags=tags, spark=spark)\n",
    "\n",
    "# Create feeature table\n",
    "fe_model.create_feature_table()\n",
    "\n",
    "# define house age feature function\n",
    "fe_model.define_feature_function()\n",
    "\n",
    "# load data\n",
    "fe_model.load_data()\n",
    "\n",
    "# perform feature engineering\n",
    "fe_model.feature_engineering()\n",
    "\n",
    "# train the model\n",
    "fe_model.train()\n",
    "\n",
    "# register the model\n",
    "fe_model.register_model()"
   ]
  }
 ],
 "metadata": {
  "application/vnd.databricks.v1+notebook": {
   "computePreferences": null,
   "dashboards": [],
   "environmentMetadata": {
    "base_environment": "",
    "environment_version": "2"
   },
   "language": "python",
   "notebookMetadata": {
    "pythonIndentUnit": 4
   },
   "notebookName": "week_2_train_register_fe_model_uc",
   "widgets": {}
  },
  "language_info": {
   "name": "python"
  }
 },
 "nbformat": 4,
 "nbformat_minor": 0
}
