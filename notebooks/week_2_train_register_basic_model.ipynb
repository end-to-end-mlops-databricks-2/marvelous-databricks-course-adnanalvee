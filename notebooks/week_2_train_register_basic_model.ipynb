{
 "cells": [
  {
   "cell_type": "code",
   "execution_count": 0,
   "metadata": {
    "application/vnd.databricks.v1+cell": {
     "cellMetadata": {
      "byteLimit": 2048000,
      "rowLimit": 10000
     },
     "inputWidgets": {},
     "nuid": "fce8d4dd-b9d8-4831-a717-a519e2441deb",
     "showTitle": false,
     "tableResultSettingsMap": {},
     "title": ""
    }
   },
   "outputs": [],
   "source": [
    "import mlflow\n",
    "from pyspark.sql import SparkSession\n",
    "\n",
    "from src.house_price.config import ProjectConfig, Tags\n",
    "from src.models.basic_model import BasicModel\n",
    "\n",
    "\n",
    "# Default profile:\n",
    "mlflow.set_tracking_uri(\"databricks\")\n",
    "mlflow.set_registry_uri(\"databricks-uc\")\n",
    "\n",
    "# Profile called \"course\"\n",
    "# mlflow.set_tracking_uri(\"databricks://course\")\n",
    "# mlflow.set_registry_uri(\"databricks-uc://course\")\n",
    "\n",
    "config = ProjectConfig.from_yaml(config_path=\"../project_config.yml\")\n",
    "spark = SparkSession.builder.getOrCreate()\n",
    "tags = Tags(**{\"git_sha\": \"abcd12345\", \"branch\": \"week2\"})\n",
    "\n",
    "# Initialize model with the config path\n",
    "basic_model = BasicModel(config=config, tags=tags, spark=spark)\n",
    "\n",
    "\n",
    "basic_model.load_data()\n",
    "basic_model.prepare_features()\n",
    "\n",
    "\n",
    "# Train + log the model (runs everything including MLflow logging)\n",
    "basic_model.train()\n",
    "basic_model.log_model()\n",
    "\n",
    "\n",
    "run_id = mlflow.search_runs(\n",
    "    experiment_names=[\"/Shared/house-prices-basic\"], filter_string=\"tags.branch='week2'\"\n",
    ").run_id[0]\n",
    "\n",
    "model = mlflow.sklearn.load_model(f\"runs:/{run_id}/lightgbm-pipeline-model\")\n",
    "\n",
    "\n",
    "# Retrieve dataset for the current run\n",
    "basic_model.retrieve_current_run_dataset()\n",
    "\n",
    "\n",
    "# Retrieve metadata for the current run\n",
    "basic_model.retrieve_current_run_metadata()\n",
    "\n",
    "\n",
    "# Register model\n",
    "basic_model.register_model()\n",
    "\n",
    "\n",
    "# Predict on the test set\n",
    "\n",
    "test_set = spark.table(f\"{config.catalog_name}.{config.schema_name}.test_set\").limit(10)\n",
    "\n",
    "X_test = test_set.drop(config.target).toPandas()\n",
    "\n",
    "predictions_df = basic_model.load_latest_model_and_predict(X_test)"
   ]
  }
 ],
 "metadata": {
  "application/vnd.databricks.v1+notebook": {
   "computePreferences": null,
   "dashboards": [],
   "environmentMetadata": {
    "base_environment": "",
    "environment_version": "2"
   },
   "language": "python",
   "notebookMetadata": {
    "pythonIndentUnit": 4
   },
   "notebookName": "week_2_train_register_basic_model",
   "widgets": {}
  },
  "language_info": {
   "name": "python"
  }
 },
 "nbformat": 4,
 "nbformat_minor": 0
}
