{
 "cells": [
  {
   "cell_type": "code",
   "execution_count": 0,
   "metadata": {
    "application/vnd.databricks.v1+cell": {
     "cellMetadata": {
      "byteLimit": 2048000,
      "rowLimit": 10000
     },
     "inputWidgets": {},
     "nuid": "867c6b28-32d4-4688-8674-afbff30eb425",
     "showTitle": false,
     "tableResultSettingsMap": {},
     "title": ""
    }
   },
   "outputs": [],
   "source": [
    "# Databricks notebook source\n",
    "import os\n",
    "import time\n",
    "\n",
    "import mlflow\n",
    "import pandas as pd\n",
    "import requests\n",
    "from databricks import feature_engineering\n",
    "from src.house_price.config import ProjectConfig\n",
    "from src.serving.feature_serving import FeatureServing\n",
    "\n",
    "# Load project config\n",
    "config = ProjectConfig.from_yaml(config_path=\"../project_config.yml\")\n",
    "\n",
    "fe = feature_engineering.FeatureEngineeringClient()\n",
    "mlflow.set_registry_uri(\"databricks-uc\")\n",
    "\n",
    "# get environment variables\n",
    "os.environ[\"DBR_TOKEN\"] = (\n",
    "    dbutils.notebook.entry_point.getDbutils().notebook().getContext().apiToken().get()\n",
    ")\n",
    "os.environ[\"DBR_HOST\"] = spark.conf.get(\"spark.databricks.workspaceUrl\")\n",
    "\n",
    "catalog_name = config.catalog_name\n",
    "schema_name = config.schema_name\n",
    "feature_table_name = f\"{catalog_name}.{schema_name}.house_prices_preds\"\n",
    "feature_spec_name = f\"{catalog_name}.{schema_name}.return_predictions\"\n",
    "endpoint_name = \"house-prices-feature-serving\"\n",
    "\n",
    "\n",
    "train_set = spark.table(f\"{catalog_name}.{schema_name}.train_set\").toPandas()\n",
    "test_set = spark.table(f\"{catalog_name}.{schema_name}.test_set\").toPandas()\n",
    "df = pd.concat([train_set, test_set])\n",
    "\n",
    "model = mlflow.sklearn.load_model(\n",
    "    f\"models:/{catalog_name}.{schema_name}.house_prices_model_basic@latest-model\"\n",
    ")\n",
    "\n",
    "\n",
    "preds_df = df[[\"Id\", \"GrLivArea\", \"YearBuilt\"]]\n",
    "preds_df[\"Predicted_SalePrice\"] = model.predict(\n",
    "    df[config.cat_features + config.num_features]\n",
    ")\n",
    "preds_df = spark.createDataFrame(preds_df)\n",
    "\n",
    "fe.create_table(\n",
    "    name=feature_table_name,\n",
    "    primary_keys=[\"Id\"],\n",
    "    df=preds_df,\n",
    "    description=\"House Prices predictions feature table\",\n",
    ")\n",
    "\n",
    "spark.sql(f\"\"\"\n",
    "          ALTER TABLE {feature_table_name}\n",
    "          SET TBLPROPERTIES (delta.enableChangeDataFeed = true)\n",
    "        \"\"\")\n",
    "\n",
    "# Initialize feature store manager\n",
    "feature_serving = FeatureServing(\n",
    "    feature_table_name=feature_table_name,\n",
    "    feature_spec_name=feature_spec_name,\n",
    "    endpoint_name=endpoint_name,\n",
    ")\n",
    "\n",
    "# Define the online_table_name attribute\n",
    "# feature_serving.online_table_name = f\"{feature_table_name}_online\"\n",
    "\n",
    "# Create online table\n",
    "feature_serving.create_online_table()\n",
    "\n",
    "# Create feature spec\n",
    "feature_serving.create_feature_spec()\n",
    "\n",
    "# Deploy feature serving endpoint\n",
    "feature_serving.deploy_or_update_serving_endpoint()"
   ]
  },
  {
   "cell_type": "code",
   "execution_count": 0,
   "metadata": {
    "application/vnd.databricks.v1+cell": {
     "cellMetadata": {
      "byteLimit": 2048000,
      "rowLimit": 10000
     },
     "inputWidgets": {},
     "nuid": "80ad6c49-37b7-48cb-a085-301bf43c75df",
     "showTitle": false,
     "tableResultSettingsMap": {},
     "title": ""
    }
   },
   "outputs": [],
   "source": [
    "import os\n",
    "\n",
    "endpoint_name = \"house-prices-feature-serving\"\n",
    "# get environment variables\n",
    "os.environ[\"DBR_TOKEN\"] = (\n",
    "    dbutils.notebook.entry_point.getDbutils().notebook().getContext().apiToken().get()\n",
    ")\n",
    "os.environ[\"DBR_HOST\"] = spark.conf.get(\"spark.databricks.workspaceUrl\")\n",
    "\n",
    "start_time = time.time()\n",
    "serving_endpoint = (\n",
    "    f\"https://{os.environ['DBR_HOST']}/serving-endpoints/{endpoint_name}/invocations\"\n",
    ")\n",
    "response = requests.post(\n",
    "    f\"{serving_endpoint}\",\n",
    "    headers={\"Authorization\": f\"Bearer {os.environ['DBR_TOKEN']}\"},\n",
    "    json={\"dataframe_records\": [{\"Id\": \"182\"}]},\n",
    ")\n",
    "\n",
    "end_time = time.time()\n",
    "execution_time = end_time - start_time\n",
    "\n",
    "print(\"Response status:\", response.status_code)\n",
    "print(\"Reponse text:\", response.text)\n",
    "print(\"Execution time:\", execution_time, \"seconds\")"
   ]
  }
 ],
 "metadata": {
  "application/vnd.databricks.v1+notebook": {
   "computePreferences": null,
   "dashboards": [],
   "environmentMetadata": {
    "base_environment": "",
    "environment_version": "2"
   },
   "language": "python",
   "notebookMetadata": {
    "pythonIndentUnit": 4
   },
   "notebookName": "week_3_fe_model_serving_endpoint",
   "widgets": {}
  },
  "language_info": {
   "name": "python"
  }
 },
 "nbformat": 4,
 "nbformat_minor": 0
}
